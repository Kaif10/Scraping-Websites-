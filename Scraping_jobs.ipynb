{
 "cells": [
  {
   "cell_type": "code",
   "execution_count": 26,
   "metadata": {},
   "outputs": [
    {
     "name": "stdout",
     "output_type": "stream",
     "text": [
      "job: Mobile App Development – Android/iOS\n",
      "company: REVOLUX SOLUTIONS\n",
      "Salary not defined\n",
      "\n",
      "job: Mobile App Development Internship\n",
      "company: Transasia Bio Medicals Limited\n",
      "Salary not defined\n",
      "\n",
      "job: iOS App Development\n",
      "company: Prognosys Marcom Services Pvt Ltd\n",
      "Salary not defined\n",
      "\n",
      "job: Web/Mobile Tester\n",
      "company: Fitternity\n",
      "Salary not defined\n",
      "\n",
      "job: Manager Website and Mobile App\n",
      "company: TeamLease Services Private Limited\n",
      "Salary not defined\n",
      "\n",
      "job: Mobile App Development part time job/internship at Mumbai\n",
      "company: SUNIL INVESTMENT\n",
      "Salary not defined\n",
      "\n",
      "job: Mobile App Development Internship\n",
      "company: LeadNinja\n",
      "Salary not defined\n",
      "\n",
      "job: Quality Assurance Engineer(App Tester)\n",
      "company: airitapp\n",
      "Salary not defined\n",
      "\n",
      "job: Mobile App Development Internship\n",
      "company: Tag8\n",
      "Salary not defined\n",
      "\n",
      "job: Mobile App Developer\n",
      "company: Marqetrix Web Solutions\n",
      "Salary not defined\n",
      "\n"
     ]
    }
   ],
   "source": [
    "#Hello guys. Today I will be scraping Indeed website to display jobs.\n",
    "\n",
    "#import the required modules\n",
    "import requests\n",
    "from bs4 import BeautifulSoup\n",
    "\n",
    "#Here i am scraping mobile-app development jobs in Mumbai. You can choose to scrap anyjob and location\n",
    "url = \"https://www.indeed.co.in/jobs?q=mobile+app+development&l=mumbai\"\n",
    "\n",
    "#request the url\n",
    "res = requests.get(url)\n",
    "\n",
    "# I am using lxml parser u can use any parser of your choice.\n",
    "soup = BeautifulSoup(res.content, 'lxml')\n",
    "\n",
    "# This attribute finds out all the specifics listed in a job\n",
    "results = soup.find_all('div', attrs={'data-tn-component': 'organicJob'})\n",
    "\n",
    "for x in results:\n",
    "  \n",
    "    #Job Title\n",
    "    job = x.find('a', attrs={'data-tn-element': \"jobTitle\"})\n",
    "    print ('job:', job.text.strip())\n",
    "    \n",
    "    #company name\n",
    "    company = x.find('span', {\"class\" : \"company\"})\n",
    "    print('company:', company.text.strip())\n",
    "\n",
    "    \n",
    "    salary = x.find('span', {'class': \"salary-text\"})\n",
    "    #salary is not defined for some jobs so we use if-else loop for it\n",
    "    if salary:\n",
    "        print ('salary:', salary.text.strip())\n",
    "    #if salary not defined\n",
    "    else:\n",
    "        print('Salary not defined')\n",
    "    print('')"
   ]
  },
  {
   "cell_type": "code",
   "execution_count": null,
   "metadata": {},
   "outputs": [],
   "source": []
  }
 ],
 "metadata": {
  "kernelspec": {
   "display_name": "Python 3",
   "language": "python",
   "name": "python3"
  },
  "language_info": {
   "codemirror_mode": {
    "name": "ipython",
    "version": 3
   },
   "file_extension": ".py",
   "mimetype": "text/x-python",
   "name": "python",
   "nbconvert_exporter": "python",
   "pygments_lexer": "ipython3",
   "version": "3.7.4"
  }
 },
 "nbformat": 4,
 "nbformat_minor": 2
}
