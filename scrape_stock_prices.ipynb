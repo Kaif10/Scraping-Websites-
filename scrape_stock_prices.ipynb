{
 "cells": [
  {
   "cell_type": "code",
   "execution_count": 13,
   "metadata": {},
   "outputs": [
    {
     "name": "stdout",
     "output_type": "stream",
     "text": [
      "Current ADS.F stock price is   218.70\n",
      "Current AMZN stock price is 2,436.88\n",
      "Current NKE  stock price is    93.75\n",
      "Current GOOG stock price is 1,410.42\n",
      "Current MSFT stock price is   183.51\n",
      "Current ORCL stock price is    52.62\n"
     ]
    }
   ],
   "source": [
    "'''\n",
    "We are going to find stock prices of some companies by scraping https://in.finance.yahoo.com/ website\n",
    "Note: Using Python 2 may result in unicode errors so use Python 3 or above\n",
    "'''\n",
    "\n",
    "#Import required modules\n",
    "import requests\n",
    "from bs4 import BeautifulSoup\n",
    "\n",
    "#define the function\n",
    "def stock_price(symbol: str = \"AAPL\") -> str:\n",
    "    url = f\"https://in.finance.yahoo.com/quote/{symbol}?s={symbol}\"\n",
    "#use any parsor of your choice. Ipersonally prefer lxml.\n",
    "    soup = BeautifulSoup(requests.get(url).text, \"lxml\")\n",
    "    class_ = \"My(6px) Pos(r) smartphone_Mt(6px)\"\n",
    "    return soup.find(\"div\", class_=class_).find(\"span\").text\n",
    "\n",
    "\n",
    "if __name__ == \"__main__\":\n",
    "    for symbol in \"ADS.F AMZN NKE GOOG MSFT ORCL\".split():\n",
    "#Here 'ADS.F AMZN NKE GOOG MSFT ORCL' stand for Adidas, amazon, nike,etc. You can check the code for any company on  \n",
    "#https://in.finance.yahoo.com/\n",
    "\n",
    "       print(f\"Current {symbol:<4} stock price is {stock_price(symbol):>8}\")\n",
    "\n",
    "#Here 'ADS.F AMZN NKE GOOG MSFT ORCL' stand for Adidas, amazon, nike,etc. You can check the code for any company on  \n",
    "#https://in.finance.yahoo.com/     \n",
    "        \n",
    "\n",
    "\n",
    "    \n",
    "\n",
    "\n",
    "\n",
    "\n",
    "\n",
    "\n",
    "\n"
   ]
  },
  {
   "cell_type": "code",
   "execution_count": null,
   "metadata": {},
   "outputs": [],
   "source": [
    "\n"
   ]
  },
  {
   "cell_type": "code",
   "execution_count": null,
   "metadata": {
    "collapsed": true
   },
   "outputs": [],
   "source": []
  },
  {
   "cell_type": "code",
   "execution_count": null,
   "metadata": {},
   "outputs": [],
   "source": []
  },
  {
   "cell_type": "code",
   "execution_count": null,
   "metadata": {},
   "outputs": [],
   "source": []
  },
  {
   "cell_type": "code",
   "execution_count": null,
   "metadata": {},
   "outputs": [],
   "source": []
  }
 ],
 "metadata": {
  "kernelspec": {
   "display_name": "Python 3",
   "language": "python",
   "name": "python3"
  },
  "language_info": {
   "codemirror_mode": {
    "name": "ipython",
    "version": 3
   },
   "file_extension": ".py",
   "mimetype": "text/x-python",
   "name": "python",
   "nbconvert_exporter": "python",
   "pygments_lexer": "ipython3",
   "version": "3.7.4"
  }
 },
 "nbformat": 4,
 "nbformat_minor": 2
}
